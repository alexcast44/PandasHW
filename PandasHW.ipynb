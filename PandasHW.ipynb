{
 "cells": [
  {
   "cell_type": "code",
   "execution_count": 3,
   "metadata": {},
   "outputs": [
    {
     "data": {
      "text/plain": [
       "'0.22.0'"
      ]
     },
     "execution_count": 3,
     "metadata": {},
     "output_type": "execute_result"
    }
   ],
   "source": [
    "import pandas as pd\n",
    "pd.__version__"
   ]
  },
  {
   "cell_type": "code",
   "execution_count": 4,
   "metadata": {},
   "outputs": [
    {
     "data": {
      "text/html": [
       "<div>\n",
       "<style scoped>\n",
       "    .dataframe tbody tr th:only-of-type {\n",
       "        vertical-align: middle;\n",
       "    }\n",
       "\n",
       "    .dataframe tbody tr th {\n",
       "        vertical-align: top;\n",
       "    }\n",
       "\n",
       "    .dataframe thead th {\n",
       "        text-align: right;\n",
       "    }\n",
       "</style>\n",
       "<table border=\"1\" class=\"dataframe\">\n",
       "  <thead>\n",
       "    <tr style=\"text-align: right;\">\n",
       "      <th></th>\n",
       "      <th>Age</th>\n",
       "      <th>Gender</th>\n",
       "      <th>Item ID</th>\n",
       "      <th>Item Name</th>\n",
       "      <th>Price</th>\n",
       "      <th>SN</th>\n",
       "    </tr>\n",
       "  </thead>\n",
       "  <tbody>\n",
       "    <tr>\n",
       "      <th>0</th>\n",
       "      <td>38</td>\n",
       "      <td>Male</td>\n",
       "      <td>165</td>\n",
       "      <td>Bone Crushing Silver Skewer</td>\n",
       "      <td>3.37</td>\n",
       "      <td>Aelalis34</td>\n",
       "    </tr>\n",
       "    <tr>\n",
       "      <th>1</th>\n",
       "      <td>21</td>\n",
       "      <td>Male</td>\n",
       "      <td>119</td>\n",
       "      <td>Stormbringer, Dark Blade of Ending Misery</td>\n",
       "      <td>2.32</td>\n",
       "      <td>Eolo46</td>\n",
       "    </tr>\n",
       "    <tr>\n",
       "      <th>2</th>\n",
       "      <td>34</td>\n",
       "      <td>Male</td>\n",
       "      <td>174</td>\n",
       "      <td>Primitive Blade</td>\n",
       "      <td>2.46</td>\n",
       "      <td>Assastnya25</td>\n",
       "    </tr>\n",
       "    <tr>\n",
       "      <th>3</th>\n",
       "      <td>21</td>\n",
       "      <td>Male</td>\n",
       "      <td>92</td>\n",
       "      <td>Final Critic</td>\n",
       "      <td>1.36</td>\n",
       "      <td>Pheusrical25</td>\n",
       "    </tr>\n",
       "    <tr>\n",
       "      <th>4</th>\n",
       "      <td>23</td>\n",
       "      <td>Male</td>\n",
       "      <td>63</td>\n",
       "      <td>Stormfury Mace</td>\n",
       "      <td>1.27</td>\n",
       "      <td>Aela59</td>\n",
       "    </tr>\n",
       "  </tbody>\n",
       "</table>\n",
       "</div>"
      ],
      "text/plain": [
       "   Age Gender  Item ID                                  Item Name  Price  \\\n",
       "0   38   Male      165                Bone Crushing Silver Skewer   3.37   \n",
       "1   21   Male      119  Stormbringer, Dark Blade of Ending Misery   2.32   \n",
       "2   34   Male      174                            Primitive Blade   2.46   \n",
       "3   21   Male       92                               Final Critic   1.36   \n",
       "4   23   Male       63                             Stormfury Mace   1.27   \n",
       "\n",
       "             SN  \n",
       "0     Aelalis34  \n",
       "1        Eolo46  \n",
       "2   Assastnya25  \n",
       "3  Pheusrical25  \n",
       "4        Aela59  "
      ]
     },
     "execution_count": 4,
     "metadata": {},
     "output_type": "execute_result"
    }
   ],
   "source": [
    "Purchase_pd = \"C:/Users/link3/Desktop/ALEX USC/purchase_data.csv\"\n",
    "df = pd.read_json(Purchase_pd)\n",
    "\n",
    "df.head()"
   ]
  },
  {
   "cell_type": "code",
   "execution_count": 39,
   "metadata": {},
   "outputs": [
    {
     "data": {
      "text/plain": [
       "Age          780\n",
       "Gender       780\n",
       "Item ID      780\n",
       "Item Name    780\n",
       "Price        780\n",
       "SN           780\n",
       "dtype: int64"
      ]
     },
     "execution_count": 39,
     "metadata": {},
     "output_type": "execute_result"
    }
   ],
   "source": [
    "total = df.count()\n",
    "total"
   ]
  },
  {
   "cell_type": "code",
   "execution_count": 41,
   "metadata": {},
   "outputs": [
    {
     "name": "stdout",
     "output_type": "stream",
     "text": [
      "  Total Players\n",
      "0           780\n"
     ]
    }
   ],
   "source": [
    "dataf = pd.DataFrame({\"Total Players\": [\"780\"]})\n",
    "print(dataf)"
   ]
  },
  {
   "cell_type": "code",
   "execution_count": 58,
   "metadata": {},
   "outputs": [
    {
     "data": {
      "text/html": [
       "<div>\n",
       "<style scoped>\n",
       "    .dataframe tbody tr th:only-of-type {\n",
       "        vertical-align: middle;\n",
       "    }\n",
       "\n",
       "    .dataframe tbody tr th {\n",
       "        vertical-align: top;\n",
       "    }\n",
       "\n",
       "    .dataframe thead th {\n",
       "        text-align: right;\n",
       "    }\n",
       "</style>\n",
       "<table border=\"1\" class=\"dataframe\">\n",
       "  <thead>\n",
       "    <tr style=\"text-align: right;\">\n",
       "      <th></th>\n",
       "      <th>Age</th>\n",
       "      <th>Item ID</th>\n",
       "      <th>Price</th>\n",
       "    </tr>\n",
       "  </thead>\n",
       "  <tbody>\n",
       "    <tr>\n",
       "      <th>count</th>\n",
       "      <td>780.000000</td>\n",
       "      <td>780.000000</td>\n",
       "      <td>780.000000</td>\n",
       "    </tr>\n",
       "    <tr>\n",
       "      <th>mean</th>\n",
       "      <td>22.729487</td>\n",
       "      <td>91.293590</td>\n",
       "      <td>2.931192</td>\n",
       "    </tr>\n",
       "    <tr>\n",
       "      <th>std</th>\n",
       "      <td>6.930604</td>\n",
       "      <td>52.707537</td>\n",
       "      <td>1.115780</td>\n",
       "    </tr>\n",
       "    <tr>\n",
       "      <th>min</th>\n",
       "      <td>7.000000</td>\n",
       "      <td>0.000000</td>\n",
       "      <td>1.030000</td>\n",
       "    </tr>\n",
       "    <tr>\n",
       "      <th>25%</th>\n",
       "      <td>19.000000</td>\n",
       "      <td>44.000000</td>\n",
       "      <td>1.960000</td>\n",
       "    </tr>\n",
       "    <tr>\n",
       "      <th>50%</th>\n",
       "      <td>22.000000</td>\n",
       "      <td>91.000000</td>\n",
       "      <td>2.880000</td>\n",
       "    </tr>\n",
       "    <tr>\n",
       "      <th>75%</th>\n",
       "      <td>25.000000</td>\n",
       "      <td>135.000000</td>\n",
       "      <td>3.910000</td>\n",
       "    </tr>\n",
       "    <tr>\n",
       "      <th>max</th>\n",
       "      <td>45.000000</td>\n",
       "      <td>183.000000</td>\n",
       "      <td>4.950000</td>\n",
       "    </tr>\n",
       "  </tbody>\n",
       "</table>\n",
       "</div>"
      ],
      "text/plain": [
       "              Age     Item ID       Price\n",
       "count  780.000000  780.000000  780.000000\n",
       "mean    22.729487   91.293590    2.931192\n",
       "std      6.930604   52.707537    1.115780\n",
       "min      7.000000    0.000000    1.030000\n",
       "25%     19.000000   44.000000    1.960000\n",
       "50%     22.000000   91.000000    2.880000\n",
       "75%     25.000000  135.000000    3.910000\n",
       "max     45.000000  183.000000    4.950000"
      ]
     },
     "execution_count": 58,
     "metadata": {},
     "output_type": "execute_result"
    }
   ],
   "source": [
    "df.describe()"
   ]
  },
  {
   "cell_type": "code",
   "execution_count": 44,
   "metadata": {},
   "outputs": [
    {
     "data": {
      "text/plain": [
       "Final Critic                                 14\n",
       "Betrayal, Whisper of Grieving Widows         11\n",
       "Arcane Gem                                   11\n",
       "Stormcaller                                  10\n",
       "Retribution Axe                               9\n",
       "Serenity                                      9\n",
       "Woeful Adamantite Claymore                    9\n",
       "Trickster                                     9\n",
       "Conqueror Adamantite Mace                     8\n",
       "Splitter, Foe Of Subtlety                     8\n",
       "Crying Steel Sickle                           8\n",
       "Bonecarvin Battle Axe                         8\n",
       "Crucifer                                      8\n",
       "Darkheart                                     8\n",
       "Persuasion                                    7\n",
       "Feral Katana                                  7\n",
       "Alpha                                         7\n",
       "Wolf, Promise of the Moonwalker               7\n",
       "Extraction, Quickblade Of Trembling Hands     7\n",
       "Blade of the Grave                            7\n",
       "Alpha, Oath of Zeal                           7\n",
       "Spectral Diamond Doomblade                    7\n",
       "Victor Iron Spikes                            7\n",
       "Brimstone                                     7\n",
       "Darkheart, Butcher of the Champion            7\n",
       "Torchlight, Bond of Storms                    7\n",
       "Warmonger, Gift of Suffering's End            6\n",
       "Sleepwalker                                   6\n",
       "Ritual Mace                                   6\n",
       "Venom Claymore                                6\n",
       "                                             ..\n",
       "Piece Maker                                   2\n",
       "Warped Fetish                                 2\n",
       "Warped Iron Scimitar                          2\n",
       "Vindictive Glass Edge                         2\n",
       "Dreamsong                                     2\n",
       "Pursuit, Cudgel of Necromancy                 2\n",
       "Fusion Pummel                                 2\n",
       "Emberling, Defender of Delusions              2\n",
       "Freak's Bite, Favor of Holy Might             2\n",
       "Tranquility, Razor of Black Magic             2\n",
       "Blazefury, Protector of Delusions             2\n",
       "Foul Titanium Battle Axe                      2\n",
       "Malice, Legacy of the Queen                   2\n",
       "Renewed Skeletal Katana                       2\n",
       "Worldbreaker                                  2\n",
       "Winter's Bite                                 2\n",
       "Hellreaver, Heirloom of Inception             1\n",
       "Sun Strike, Jaws of Twisted Visions           1\n",
       "Splinter                                      1\n",
       "Downfall, Scalpel Of The Emperor              1\n",
       "Verdict                                       1\n",
       "Ghastly Adamantite Protector                  1\n",
       "Phantomlight                                  1\n",
       "Lightning, Etcher of the King                 1\n",
       "Foul Edge                                     1\n",
       "Exiled Mithril Longsword                      1\n",
       "Exiled Doomblade                              1\n",
       "Flux, Destroyer of Due Diligence              1\n",
       "Bloodlord's Fetish                            1\n",
       "Soul-Forged Steel Shortsword                  1\n",
       "Name: Item Name, Length: 179, dtype: int64"
      ]
     },
     "execution_count": 44,
     "metadata": {},
     "output_type": "execute_result"
    }
   ],
   "source": [
    "count = df[\"Item Name\"].value_counts()\n",
    "count"
   ]
  },
  {
   "cell_type": "code",
   "execution_count": 5,
   "metadata": {},
   "outputs": [
    {
     "data": {
      "text/plain": [
       "array(['Bone Crushing Silver Skewer',\n",
       "       'Stormbringer, Dark Blade of Ending Misery', 'Primitive Blade',\n",
       "       'Final Critic', 'Stormfury Mace', 'Sleepwalker', 'Mercenary Sabre',\n",
       "       'Interrogator, Blood Blade of the Queen',\n",
       "       'Ghost Reaver, Longsword of Magic',\n",
       "       'Expiration, Warscythe Of Lost Worlds',\n",
       "       'Despair, Favor of Due Diligence', 'Alpha, Reach of Ending Hope',\n",
       "       'Dreamkiss', 'Piety, Guardian of Riddles', 'Bonecarvin Battle Axe',\n",
       "       'Blood-Forged Skeletal Spine', \"Twilight's Carver\",\n",
       "       'Lightning, Etcher of the King', 'Celeste',\n",
       "       'Winterthorn, Defender of Shifting Worlds',\n",
       "       'Glimmer, Ender of the Moon', 'Phantomlight', 'Brimstone',\n",
       "       \"Dragon's Greatsword\", 'Conqueror Adamantite Mace', 'Persuasion',\n",
       "       'Crying Steel Sickle', 'The Oculus, Token of Lost Worlds',\n",
       "       'Glinting Glass Edge', 'War-Forged Gold Deflector',\n",
       "       'Shadow Strike, Glory of Ending Hope',\n",
       "       'Rage, Legacy of the Lone Victor', 'Betrayer', 'Serenity',\n",
       "       'Scalpel', 'Hero Cane', 'Thorn, Satchel of Dark Souls',\n",
       "       'Venom Claymore', 'Storm-Weaver, Slayer of Inception',\n",
       "       'Malificent Bag', 'Agatha', 'Lazarus, Terror of the Earth',\n",
       "       'Ritual Mace', 'Severance', 'Orenmir', 'Endbringer', 'Striker',\n",
       "       'Trickster', 'Retribution Axe', 'Verdict', 'Stormfury Lantern',\n",
       "       'Betrayal, Whisper of Grieving Widows',\n",
       "       'Flux, Destroyer of Due Diligence', 'Azurewrath',\n",
       "       'Undead Crusader', 'Lifebender',\n",
       "       'The Void, Vengeance of Dark Magic',\n",
       "       'Darkheart, Butcher of the Champion', 'Suspension',\n",
       "       'Unending Tyranny', 'Eternal Cleaver',\n",
       "       'Hailstorm Shadowsteel Scythe', 'Deluge, Edge of the West',\n",
       "       'Crucifer', 'Blood Infused Guardian',\n",
       "       'Blazeguard, Reach of Eternity', 'Woeful Adamantite Claymore',\n",
       "       'Hopeless Ebon Dualblade', 'Deathraze', 'Darkheart',\n",
       "       'Extraction, Quickblade Of Trembling Hands', 'Blade of the Grave',\n",
       "       'Malice, Legacy of the Queen', \"Reaper's Toll\", 'Netherbane',\n",
       "       'Alpha', \"Misery's End\", 'Singed Scalpel', 'Stormcaller',\n",
       "       'Mercy, Katana of Dismay', 'Stormfury Longsword',\n",
       "       'Vindictive Glass Edge', 'Spectral Diamond Doomblade',\n",
       "       'Heartless Bone Dualblade', 'The Decapitator',\n",
       "       'Thorn, Conqueror of the Corrupted', 'Arcane Gem', 'Avenger',\n",
       "       'Vengeance Cleaver', 'Torchlight, Bond of Storms',\n",
       "       'Yearning Crusher', 'Exiled Mithril Longsword', 'Dawn',\n",
       "       'Piece Maker', 'Whistling Mithril Warblade', 'Massacre',\n",
       "       'Fate, Vengeance of Eternal Justice',\n",
       "       'Tranquility, Razor of Black Magic', 'Dawne', 'Demise',\n",
       "       'Possessed Core', \"Freak's Bite, Favor of Holy Might\",\n",
       "       'Riddle, Tribute of Ended Dreams', 'Hatred', 'Victor Iron Spikes',\n",
       "       'Blindscythe', 'Worldbreaker', 'Warped Fetish', 'Mourning Blade',\n",
       "       'Splitter, Foe Of Subtlety', 'Splinter', 'Toothpick',\n",
       "       'Swan Song, Gouger Of Terror', \"Hope's End\",\n",
       "       'Blazefury, Protector of Delusions', 'Shadowsteel',\n",
       "       'Apocalyptic Battlescythe', 'Wolf, Promise of the Moonwalker',\n",
       "       'Spectral Bone Axe', 'Brutality Ivory Warmace',\n",
       "       'Frenzied Scimitar', 'Aetherius, Boon of the Blessed',\n",
       "       'Relentless Iron Skewer', \"Warmonger, Gift of Suffering's End\",\n",
       "       'Heartseeker, Reaver of Souls',\n",
       "       'Hellreaver, Heirloom of Inception', 'Devine', 'Feral Katana',\n",
       "       'Spada, Etcher of Hatred', 'Renewed Skeletal Katana', 'Ragnarok',\n",
       "       'Fury', 'Orbit', 'Fiery Glass Crusader', 'Wolf', 'Abyssal Shard',\n",
       "       'Warped Diamond Crusader', 'Purgatory, Gem of Regret',\n",
       "       'Second Chance', 'Soul Infused Crystal', 'Chaos, Ender of the End',\n",
       "       \"Winter's Bite\", 'Yearning Mageblade',\n",
       "       'Heartstriker, Legacy of the Light', 'Alpha, Oath of Zeal',\n",
       "       'Emberling, Defender of Delusions', \"Gladiator's Glaive\",\n",
       "       'Singed Onyx Warscythe', 'Fusion Pummel',\n",
       "       'Deadline, Voice Of Subtlety', 'Curved Axe',\n",
       "       'Haunted Bronzed Bludgeon', 'Warped Iron Scimitar',\n",
       "       'Thirsty Iron Reaver', 'Foul Titanium Battle Axe', 'Amnesia',\n",
       "       'Souleater', 'Restored Bauble',\n",
       "       'Celeste, Incarnation of the Corrupted', \"Faith's Scimitar\",\n",
       "       'Frenzy, Defender of the Harvest',\n",
       "       'Oathbreaker, Spellblade of Trials', 'Nirvana',\n",
       "       \"Solitude's Reaver\", 'Exiled Doomblade', 'Rusty Skull',\n",
       "       'Thunderfury Scimitar', 'Putrid Fan',\n",
       "       'Pursuit, Cudgel of Necromancy',\n",
       "       'Sun Strike, Jaws of Twisted Visions',\n",
       "       'Ghastly Adamantite Protector', 'Dreamsong', 'Unholy Wand',\n",
       "       'Righteous Might', 'Oathbreaker, Last Hope of the Breaking Storm',\n",
       "       'Soul-Forged Steel Shortsword', 'Downfall, Scalpel Of The Emperor',\n",
       "       'Foul Edge', \"Bloodlord's Fetish\"], dtype=object)"
      ]
     },
     "execution_count": 5,
     "metadata": {},
     "output_type": "execute_result"
    }
   ],
   "source": [
    "df[\"Item Name\"].unique()\n"
   ]
  },
  {
   "cell_type": "code",
   "execution_count": 6,
   "metadata": {},
   "outputs": [
    {
     "data": {
      "text/plain": [
       "2286.33"
      ]
     },
     "execution_count": 6,
     "metadata": {},
     "output_type": "execute_result"
    }
   ],
   "source": [
    "total_Rev = df[\"Price\"].sum()\n",
    "total_Rev"
   ]
  },
  {
   "cell_type": "code",
   "execution_count": 60,
   "metadata": {},
   "outputs": [
    {
     "name": "stdout",
     "output_type": "stream",
     "text": [
      "  Number of Unique Items Average Price Number of Purchases Total Revenue\n",
      "0                    179         $2.93                 780     $2,286.33\n"
     ]
    }
   ],
   "source": [
    "Items_Dict = [{\"Number of Unique Items\": \"179\", \"Average Price\": \"$2.93\", \"Number of Purchases\": \"780\", \"Total Revenue\": \"$2,286.33\"}]\n",
    "dF_Items = pd.DataFrame(Items_Dict,\n",
    "                        columns = [\"Number of Unique Items\", \"Average Price\", \"Number of Purchases\", \"Total Revenue\"])\n",
    "print(dF_Items)"
   ]
  },
  {
   "cell_type": "code",
   "execution_count": 8,
   "metadata": {},
   "outputs": [
    {
     "data": {
      "text/plain": [
       "Male                     633\n",
       "Female                   136\n",
       "Other / Non-Disclosed     11\n",
       "Name: Gender, dtype: int64"
      ]
     },
     "execution_count": 8,
     "metadata": {},
     "output_type": "execute_result"
    }
   ],
   "source": [
    "count = df[\"Gender\"].value_counts()\n",
    "count"
   ]
  },
  {
   "cell_type": "code",
   "execution_count": 9,
   "metadata": {},
   "outputs": [
    {
     "name": "stdout",
     "output_type": "stream",
     "text": [
      "81.15%\n"
     ]
    }
   ],
   "source": [
    "print('{0:.2f}%'.format((633 / 780 * 100)))"
   ]
  },
  {
   "cell_type": "code",
   "execution_count": 10,
   "metadata": {},
   "outputs": [
    {
     "name": "stdout",
     "output_type": "stream",
     "text": [
      "17.44%\n"
     ]
    }
   ],
   "source": [
    "print('{0:.2f}%'.format((136 / 780 * 100)))"
   ]
  },
  {
   "cell_type": "code",
   "execution_count": 11,
   "metadata": {},
   "outputs": [
    {
     "name": "stdout",
     "output_type": "stream",
     "text": [
      "1.41%\n"
     ]
    }
   ],
   "source": [
    "print('{0:.2f}%'.format((11 / 780 * 100)))"
   ]
  },
  {
   "cell_type": "code",
   "execution_count": 14,
   "metadata": {},
   "outputs": [
    {
     "name": "stdout",
     "output_type": "stream",
     "text": [
      "                    Percentage of Players Total Count\n",
      "Male                                81.15         633\n",
      "Female                              17.44         136\n",
      "Other/Non-Disclosed                  1.41          11\n"
     ]
    }
   ],
   "source": [
    "GenDem = {'Percentage of Players': ['81.15', '17.44', '1.41'], \n",
    "         'Total Count': ['633', '136', '11'],\n",
    "         'Male': ['81.15', '633',],\n",
    "         'Female': ['17.44', '136'],\n",
    "         'Other/Non-Disclosed': ['1.41', '11']}\n",
    "\n",
    "df = pd.DataFrame(GenDem,\n",
    "                 columns = ['Percentage of Players', 'Total Count'],\n",
    "                 index = ['Male', 'Female', 'Other/Non-Disclosed'])\n",
    "\n",
    "print(df)"
   ]
  },
  {
   "cell_type": "code",
   "execution_count": null,
   "metadata": {},
   "outputs": [],
   "source": []
  },
  {
   "cell_type": "code",
   "execution_count": 25,
   "metadata": {},
   "outputs": [
    {
     "name": "stdout",
     "output_type": "stream",
     "text": [
      "                    Purchase Count Average Purchase Price  \\\n",
      "Gender                                                      \n",
      "Male                           136                  $2.82   \n",
      "Female                         633                   2.95   \n",
      "Other/Non-Disclosed             11                  $3.25   \n",
      "\n",
      "                    Total Purchase Value Normalized Totals  \n",
      "Gender                                                      \n",
      "Male                             $382.91             $3.83  \n",
      "Female                         $1,867.68             $4.02  \n",
      "Other/Non-Disclosed               $35.74             $4.47  \n"
     ]
    }
   ],
   "source": [
    "Analysis = {'Purchase Count': ['', '136', '633', '11'],\n",
    "        'Average Purchase Price': ['', '$2.82', '2.95', '$3.25'],\n",
    "           'Total Purchase Value': ['', '$382.91', '$1,867.68', '$35.74'],\n",
    "           'Normalized Totals': ['', '$3.83', '$4.02', '$4.47']}\n",
    "\n",
    "dataF = pd.DataFrame(Analysis,\n",
    "                  columns = ['Purchase Count', 'Average Purchase Price', 'Total Purchase Value', 'Normalized Totals'],\n",
    "                    index = ['Gender', 'Male', 'Female', 'Other/Non-Disclosed'])\n",
    "            \n",
    " \n",
    "print(dataF)"
   ]
  },
  {
   "cell_type": "code",
   "execution_count": 13,
   "metadata": {},
   "outputs": [],
   "source": [
    "Age_Demo = pd.Series({\"Gender\": \"Male\", \"Female\": \"17.45\", \"Other/Non-Disclosed\": \"1.40\"})\n",
    "#Total_Count = pd.Series({\"Male\": \"81.15\", \"Female\": \"17.45\", \"Other/Non-Disclosed\": \"1.40\"})\n",
    "#data = DataFrame({\"Percentage_of_Players\": Percentage_of_Players, \"Total_Count\":\n",
    "#                  Total_Count})\n",
    "#print(data)"
   ]
  },
  {
   "cell_type": "code",
   "execution_count": null,
   "metadata": {},
   "outputs": [],
   "source": []
  }
 ],
 "metadata": {
  "kernelspec": {
   "display_name": "Python 3",
   "language": "python",
   "name": "python3"
  },
  "language_info": {
   "codemirror_mode": {
    "name": "ipython",
    "version": 3
   },
   "file_extension": ".py",
   "mimetype": "text/x-python",
   "name": "python",
   "nbconvert_exporter": "python",
   "pygments_lexer": "ipython3",
   "version": "3.6.4"
  }
 },
 "nbformat": 4,
 "nbformat_minor": 2
}
